{
 "cells": [
  {
   "cell_type": "code",
   "execution_count": 9,
   "metadata": {},
   "outputs": [],
   "source": [
    "\"\"\"Downloads the GloVe vectors and unzips them\"\"\"\n",
    "\n",
    "import zipfile\n",
    "import argparse\n",
    "import os\n",
    "from squad_preprocess import maybe_download\n",
    "\n",
    "def setup_args():\n",
    "    parser = argparse.ArgumentParser()\n",
    "    parser.add_argument(\"--download_dir\", required=True) # where to put the downloaded glove files\n",
    "    return parser.parse_args()\n",
    "\n",
    "\n",
    "def main():\n",
    "    args = setup_args()\n",
    "    glove_base_url = \"http://nlp.stanford.edu/data/\"\n",
    "    glove_filename = \"glove.6B.zip\"\n",
    "\n",
    "    print \"\\nDownloading wordvecs to {}\".format(args.download_dir)\n",
    "\n",
    "    if not os.path.exists(args.download_dir):\n",
    "        os.makedirs(args.download_dir)\n",
    "\n",
    "    maybe_download(glove_base_url, glove_filename, args.download_dir, 862182613L)\n",
    "    glove_zip_ref = zipfile.ZipFile(os.path.join(args.download_dir, glove_filename), 'r')\n",
    "\n",
    "    glove_zip_ref.extractall(args.download_dir)\n",
    "    glove_zip_ref.close()\n",
    "\n",
    "\n",
    "if __name__ == '__main__':\n",
    "    main()"
   ]
  },
  {
   "cell_type": "code",
   "execution_count": 6,
   "metadata": {},
   "outputs": [],
   "source": [
    "import zipfile\n",
    "from preprocess import *\n",
    "\n",
    "\n",
    "if __name__ == '__main__':\n",
    "    glove_base_url = \"http://nlp.stanford.edu/data/\"\n",
    "    glove_filename = \"glove.6B.zip\"\n",
    "    prefix = os.path.join(\"download\", \"dwr\")\n",
    "\n",
    "    print(\"Storing datasets in {}\".format(prefix))\n",
    "\n",
    "    if not os.path.exists(prefix):\n",
    "        os.makedirs(prefix)\n",
    "\n",
    "    glove_zip = maybe_download(glove_base_url, glove_filename, prefix, 862182613L)\n",
    "    glove_zip_ref = zipfile.ZipFile(os.path.join(prefix, glove_filename), 'r')\n",
    "\n",
    "    glove_zip_ref.extractall(prefix)\n",
    "    glove_zip_ref.close()"
   ]
  },
  {
   "cell_type": "code",
   "execution_count": 12,
   "metadata": {},
   "outputs": [
    {
     "name": "stdout",
     "output_type": "stream",
     "text": [
      "Storing datasets in download\\dwr\n"
     ]
    }
   ],
   "source": [
    "import zipfile\n",
    "import argparse\n",
    "import os\n",
    "import numpy as np\n",
    "from __future__ import division\n",
    "\n",
    "filename = 'glove.6B/glove.6B.100d.txt'\n",
    "\n",
    "glove_base_url = \"http://nlp.stanford.edu/data/\"\n",
    "glove_filename = \"glove.6B.zip\"\n",
    "prefix = os.path.join(\"download\", \"dwr\")\n",
    "\n",
    "print(\"Storing datasets in {}\".format(prefix))\n",
    "\n",
    "if not os.path.exists(prefix):\n",
    "    os.makedirs(prefix)\n",
    "\n",
    "def loadEmbeddings(filename):\n",
    "    vocab = []\n",
    "    embd = []\n",
    "    file = open(filename,'r')\n",
    "    for line in file.readlines():\n",
    "        row = line.strip().split(' ')\n",
    "        vocab.append(row[0])\n",
    "        embd.append(row[1:])\n",
    "    print('Loaded!')\n",
    "    file.close()\n",
    "    return vocab,embd\n",
    "vocab,embd = loadEmbeddings(filename)\n",
    "\n",
    "\n",
    "word_vec_dim = len(embd[0])\n",
    "\n",
    "vocab.append('<UNK>')\n",
    "embd.append(np.asarray(embd[vocab.index('unk')],np.float32)+0.01)\n",
    "\n",
    "vocab.append('<EOS>')\n",
    "embd.append(np.asarray(embd[vocab.index('eos')],np.float32)+0.01)\n",
    "\n",
    "vocab.append('<PAD>')\n",
    "embd.append(np.zeros((word_vec_dim),np.float32))\n",
    "\n",
    "embedding = np.asarray(embd)\n",
    "embedding = embedding.astype(np.float32)"
   ]
  }
 ],
 "metadata": {
  "anaconda-cloud": {},
  "kernelspec": {
   "display_name": "Python [conda root]",
   "language": "python",
   "name": "conda-root-py"
  },
  "language_info": {
   "codemirror_mode": {
    "name": "ipython",
    "version": 3
   },
   "file_extension": ".py",
   "mimetype": "text/x-python",
   "name": "python",
   "nbconvert_exporter": "python",
   "pygments_lexer": "ipython3",
   "version": "3.5.2"
  }
 },
 "nbformat": 4,
 "nbformat_minor": 2
}
